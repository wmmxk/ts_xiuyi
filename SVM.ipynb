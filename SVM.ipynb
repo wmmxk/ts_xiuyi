{
 "cells": [
  {
   "cell_type": "markdown",
   "metadata": {},
   "source": [
    "* In high dimension spaces linear svm usually does better, # https://stackoverflow.com/questions/34668807/much-worse-performance-with-rbf-kernel-than-linear-in-svm-in-python-scikit-learn"
   ]
  },
  {
   "cell_type": "code",
   "execution_count": 1,
   "metadata": {},
   "outputs": [],
   "source": [
    "import os\n",
    "import pandas as pd\n",
    "import numpy as np\n",
    "import mat73\n",
    "from sklearn import svm\n",
    "import sklearn.model_selection as model_selection\n",
    "from sklearn.metrics import accuracy_score\n",
    "from sklearn.metrics import f1_score\n",
    "from sklearn.decomposition import PCA"
   ]
  },
  {
   "cell_type": "code",
   "execution_count": 20,
   "metadata": {},
   "outputs": [],
   "source": [
    "def svm_classify(X,y):\n",
    "    \"\"\"\n",
    "    define a function to run multiclass classification\n",
    "    :param X: features set\n",
    "    :param y: class label\n",
    "    :return: poly_accuracy, poly_f1\n",
    "    \"\"\"\n",
    "\n",
    "    # divide the dataset to 80% for training, 20% for resting\n",
    "    X_train, X_test, y_train, y_test = model_selection.train_test_split(X, y, train_size=0.80, test_size=0.20,\n",
    "                                                                        random_state=101)\n",
    "    # create a svm with Polynomial kernel    \n",
    "    poly = svm.SVC(kernel='rbf', gamma=0.001, C=1).fit(X_train, y_train)  # does not work well\n",
    "    # poly = svm.SVC(kernel='poly', degree=3, C=1).fit(X_train, y_train)\n",
    "    # poly = svm.SVC(kernel='linear', C=1).fit(X_train, y_train)\n",
    "\n",
    "    # test the classifier using the test data set\n",
    "    poly_pred = poly.predict(X_test)\n",
    "\n",
    "    # calculate the accuracy and f1 scores\n",
    "    poly_accuracy = accuracy_score(y_test, poly_pred)\n",
    "    poly_f1 = f1_score(y_test, poly_pred, average='weighted')\n",
    "    print('Accuracy (Polynomial Kernel): ', \"%.2f\" % (poly_accuracy * 100))\n",
    "    print('F1 (Polynomial Kernel): ', \"%.2f\" % (poly_f1 * 100))\n",
    "    print('       ')\n",
    "\n",
    "    return poly_accuracy, poly_f1"
   ]
  },
  {
   "cell_type": "code",
   "execution_count": 21,
   "metadata": {
    "scrolled": true
   },
   "outputs": [
    {
     "name": "stderr",
     "output_type": "stream",
     "text": [
      "ERROR:root:ERROR: MATLAB type not supported: table, (uint32)\n",
      "ERROR:root:ERROR: MATLAB type not supported: table, (uint32)\n",
      "ERROR:root:ERROR: MATLAB type not supported: table, (uint32)\n"
     ]
    },
    {
     "name": "stdout",
     "output_type": "stream",
     "text": [
      "classify using all the features\n",
      "Accuracy (Polynomial Kernel):  34.69\n",
      "F1 (Polynomial Kernel):  34.02\n",
      "       \n",
      "classify using 500 features\n",
      "Accuracy (Polynomial Kernel):  13.12\n",
      "F1 (Polynomial Kernel):  5.90\n",
      "       \n"
     ]
    }
   ],
   "source": [
    "#%% step 1: prepare the feature vectors and labels\n",
    "# get the path of the current code\n",
    "\n",
    "path_curr = os.getcwd()\n",
    "\n",
    "file_data = os.path.join(path_curr,'data_features.mat')\n",
    "file_label = os.path.join(path_curr,'labels.xlsx')\n",
    "\n",
    "# read the label file and get the label of each sample\n",
    "data_label = pd.read_excel(file_label, engine='openpyxl')\n",
    "labels_each = data_label['network_id']\n",
    "labels = list(labels_each)*4\n",
    "\n",
    "y = labels\n",
    "\n",
    "# load data of feature vectors\n",
    "data_all = mat73.loadmat(file_data )\n",
    "data = data_all['TS_DataMat']\n",
    "\n",
    "\n",
    "#%% step 2: run the classification using all the features\n",
    "data_all_features = data\n",
    "print ('classify using all the features')\n",
    "accuracy_all_features, f1_all_features = svm_classify(data_all_features,labels)\n",
    "\n",
    "#%% step 3: run the classification using the part of the features\n",
    "\n",
    "# identify distinct values by feature\n",
    "df = pd.DataFrame(data, columns = list(np.arange(1,data.shape[1]+1)))\n",
    "distinct_counter = df.apply(lambda x: len(x.unique()))\n",
    "\n",
    "# sort the distinct_counter based on the unique number\n",
    "distinct_counter.sort_values(ascending = False, inplace=True)\n",
    "\n",
    "cols_index = list(distinct_counter.index)\n",
    "# choose the first * features for classification\n",
    "for feature_part_num in range(500,7000,500):\n",
    "    data_part = df[cols_index[0:feature_part_num]]\n",
    "\n",
    "    # classify\n",
    "    print ('classify using %s features'%(feature_part_num))\n",
    "    accuracy_part_features, f1_part_features = svm_classify(data_part.values, labels)\n",
    "    break\n"
   ]
  },
  {
   "cell_type": "code",
   "execution_count": null,
   "metadata": {},
   "outputs": [],
   "source": [
    "\n",
    "\n",
    "\n",
    "#%% run PCA to choose the top features\n",
    "n_components = 1600\n",
    "whiten = False\n",
    "random_state = 2018\n",
    "pca = PCA(n_components=n_components, whiten=whiten, random_state=random_state)\n",
    "data_PCA = pca.fit_transform(data)\n",
    "\n",
    "# percentage of variance captured by %s n_components\n",
    "print ('variance explained by the %s principal components %s' %(n_components, sum(pca.explained_variance_ratio_)))\n",
    "\n",
    "# percentage of variance captured by x principal components\n",
    "\n",
    "for pc_num in range(200,1600,200):\n",
    "    print ('variance explained by the first %s PCs: %s'%(pc_num, np.sum(pca.explained_variance_ratio_[0:pc_num])))\n",
    "\n",
    "# classification using the PCA features\n",
    "for PCs_num in range(500,1600,200):\n",
    "    print ('classify using %s principal components'%(PCs_num))\n",
    "    data_PCA_part = data_PCA[:,0:PCs_num]\n",
    "    accuracy_part_PCs, f1_part_PCs = svm_classify(data_PCA_part, labels)\n",
    "    \n",
    "print ('well done')"
   ]
  },
  {
   "cell_type": "code",
   "execution_count": null,
   "metadata": {},
   "outputs": [],
   "source": []
  }
 ],
 "metadata": {
  "kernelspec": {
   "display_name": "Python 3 (ipykernel)",
   "language": "python",
   "name": "python3"
  },
  "language_info": {
   "codemirror_mode": {
    "name": "ipython",
    "version": 3
   },
   "file_extension": ".py",
   "mimetype": "text/x-python",
   "name": "python",
   "nbconvert_exporter": "python",
   "pygments_lexer": "ipython3",
   "version": "3.7.6"
  }
 },
 "nbformat": 4,
 "nbformat_minor": 4
}
